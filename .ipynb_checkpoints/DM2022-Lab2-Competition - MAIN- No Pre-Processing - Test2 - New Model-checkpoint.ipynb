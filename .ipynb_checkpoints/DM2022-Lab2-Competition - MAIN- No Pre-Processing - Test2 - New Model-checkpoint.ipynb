{
 "cells": [
  {
   "cell_type": "markdown",
   "id": "cb4fef98",
   "metadata": {
    "papermill": {
     "duration": 0.009961,
     "end_time": "2022-11-11T17:18:19.746619",
     "exception": false,
     "start_time": "2022-11-11T17:18:19.736658",
     "status": "completed"
    },
    "tags": []
   },
   "source": [
    "# 1. Introducition\n",
    "The following code contains the creation and training of an RNN Model using Keras and TensorFlow. The project was originally started in Kaggle but was moved to Jupyter Notebook so as to utilize hardware acceleration. The aim of the model is to decide whether tweets entered are one of eight emotions. The emotions are as followed: {'joy', 'surprise', 'sadness', 'anger', 'trust', 'fear', 'disgust', 'anticipation'}. Many of the porcesses taken and utilized were thanks to the GPU-Accelerated performance of the Jupyter Notebook. With that I was able to perform more epochs as well as create more versions as well."
   ]
  },
  {
   "cell_type": "code",
   "execution_count": 1,
   "id": "a3d52d8e",
   "metadata": {
    "_cell_guid": "b1076dfc-b9ad-4769-8c92-a6c4dae69d19",
    "_uuid": "8f2839f25d086af736a60e9eeb907d3b93b6e0e5",
    "execution": {
     "iopub.execute_input": "2022-11-11T17:18:19.765520Z",
     "iopub.status.busy": "2022-11-11T17:18:19.764328Z",
     "iopub.status.idle": "2022-11-11T17:18:19.778225Z",
     "shell.execute_reply": "2022-11-11T17:18:19.776567Z"
    },
    "papermill": {
     "duration": 0.025891,
     "end_time": "2022-11-11T17:18:19.780826",
     "exception": false,
     "start_time": "2022-11-11T17:18:19.754935",
     "status": "completed"
    },
    "tags": []
   },
   "outputs": [],
   "source": [
    "# This Python 3 environment comes with many helpful analytics libraries installed\n",
    "# It is defined by the kaggle/python Docker image: https://github.com/kaggle/docker-python\n",
    "# For example, here's several helpful packages to load\n",
    "\n",
    "import numpy as np # linear algebra\n",
    "import pandas as pd # data processing, CSV file I/O (e.g. pd.read_csv)\n",
    "\n",
    "# Input data files are available in the read-only \"../input/\" directory\n",
    "# For example, running this (by clicking run or pressing Shift+Enter) will list all files under the input directory\n",
    "\n",
    "import os\n",
    "for dirname, _, filenames in os.walk('/kaggle/input'):\n",
    "    for filename in filenames:\n",
    "        print(os.path.join(dirname, filename))\n",
    "\n",
    "# You can write up to 20GB to the current directory (/kaggle/working/) that gets preserved as output when you create a version using \"Save & Run All\" \n",
    "# You can also write temporary files to /kaggle/temp/, but they won't be saved outside of the current session"
   ]
  },
  {
   "cell_type": "markdown",
   "id": "dc2b7955",
   "metadata": {
    "papermill": {
     "duration": 0.007965,
     "end_time": "2022-11-11T17:18:19.797208",
     "exception": false,
     "start_time": "2022-11-11T17:18:19.789243",
     "status": "completed"
    },
    "tags": []
   },
   "source": [
    "# 2 Importing Files\n",
    "Due to the JSON being a Nested Json, the original df did not fully contain the information needed. Due to this another dataframe was created with json_normalize so as to have the tweet_id, and the text, which were very importan. The tweet_id was necessary so as to add combine the other dataframes that contained the training and test data. The reason for this was so as to have the dataframe be able to share the tweet text via the tweet_id. Afterwards, separate dataframes where created to have the Training and Testing Data Separate from each other, as well as the emotion labels."
   ]
  },
  {
   "cell_type": "code",
   "execution_count": 2,
   "id": "bb5d8c43",
   "metadata": {
    "execution": {
     "iopub.execute_input": "2022-11-11T17:18:19.814998Z",
     "iopub.status.busy": "2022-11-11T17:18:19.814585Z",
     "iopub.status.idle": "2022-11-11T17:18:50.187098Z",
     "shell.execute_reply": "2022-11-11T17:18:50.185890Z"
    },
    "papermill": {
     "duration": 30.394447,
     "end_time": "2022-11-11T17:18:50.199785",
     "exception": false,
     "start_time": "2022-11-11T17:18:19.805338",
     "status": "completed"
    },
    "tags": []
   },
   "outputs": [
    {
     "data": {
      "text/html": [
       "<div>\n",
       "<style scoped>\n",
       "    .dataframe tbody tr th:only-of-type {\n",
       "        vertical-align: middle;\n",
       "    }\n",
       "\n",
       "    .dataframe tbody tr th {\n",
       "        vertical-align: top;\n",
       "    }\n",
       "\n",
       "    .dataframe thead th {\n",
       "        text-align: right;\n",
       "    }\n",
       "</style>\n",
       "<table border=\"1\" class=\"dataframe\">\n",
       "  <thead>\n",
       "    <tr style=\"text-align: right;\">\n",
       "      <th></th>\n",
       "      <th>_score</th>\n",
       "      <th>_index</th>\n",
       "      <th>_source</th>\n",
       "      <th>_crawldate</th>\n",
       "      <th>_type</th>\n",
       "    </tr>\n",
       "  </thead>\n",
       "  <tbody>\n",
       "    <tr>\n",
       "      <th>0</th>\n",
       "      <td>391</td>\n",
       "      <td>hashtag_tweets</td>\n",
       "      <td>{'tweet': {'hashtags': ['Snapchat'], 'tweet_id...</td>\n",
       "      <td>2015-05-23 11:42:47</td>\n",
       "      <td>tweets</td>\n",
       "    </tr>\n",
       "    <tr>\n",
       "      <th>1</th>\n",
       "      <td>433</td>\n",
       "      <td>hashtag_tweets</td>\n",
       "      <td>{'tweet': {'hashtags': ['freepress', 'TrumpLeg...</td>\n",
       "      <td>2016-01-28 04:52:09</td>\n",
       "      <td>tweets</td>\n",
       "    </tr>\n",
       "    <tr>\n",
       "      <th>2</th>\n",
       "      <td>232</td>\n",
       "      <td>hashtag_tweets</td>\n",
       "      <td>{'tweet': {'hashtags': ['bibleverse'], 'tweet_...</td>\n",
       "      <td>2017-12-25 04:39:20</td>\n",
       "      <td>tweets</td>\n",
       "    </tr>\n",
       "    <tr>\n",
       "      <th>3</th>\n",
       "      <td>376</td>\n",
       "      <td>hashtag_tweets</td>\n",
       "      <td>{'tweet': {'hashtags': [], 'tweet_id': '0x1cd5...</td>\n",
       "      <td>2016-01-24 23:53:05</td>\n",
       "      <td>tweets</td>\n",
       "    </tr>\n",
       "    <tr>\n",
       "      <th>4</th>\n",
       "      <td>989</td>\n",
       "      <td>hashtag_tweets</td>\n",
       "      <td>{'tweet': {'hashtags': [], 'tweet_id': '0x2de2...</td>\n",
       "      <td>2016-01-08 17:18:59</td>\n",
       "      <td>tweets</td>\n",
       "    </tr>\n",
       "  </tbody>\n",
       "</table>\n",
       "</div>"
      ],
      "text/plain": [
       "   _score          _index                                            _source  \\\n",
       "0     391  hashtag_tweets  {'tweet': {'hashtags': ['Snapchat'], 'tweet_id...   \n",
       "1     433  hashtag_tweets  {'tweet': {'hashtags': ['freepress', 'TrumpLeg...   \n",
       "2     232  hashtag_tweets  {'tweet': {'hashtags': ['bibleverse'], 'tweet_...   \n",
       "3     376  hashtag_tweets  {'tweet': {'hashtags': [], 'tweet_id': '0x1cd5...   \n",
       "4     989  hashtag_tweets  {'tweet': {'hashtags': [], 'tweet_id': '0x2de2...   \n",
       "\n",
       "            _crawldate   _type  \n",
       "0  2015-05-23 11:42:47  tweets  \n",
       "1  2016-01-28 04:52:09  tweets  \n",
       "2  2017-12-25 04:39:20  tweets  \n",
       "3  2016-01-24 23:53:05  tweets  \n",
       "4  2016-01-08 17:18:59  tweets  "
      ]
     },
     "execution_count": 2,
     "metadata": {},
     "output_type": "execute_result"
    }
   ],
   "source": [
    "#Creating Twitter DF From Json Files\n",
    "twitterDM = \"Twitter/tweets_DM.json\"\n",
    "twitter_df = pd.read_json(twitterDM, lines=True)\n",
    "twitter_df.head()"
   ]
  },
  {
   "cell_type": "code",
   "execution_count": 3,
   "id": "452ea830",
   "metadata": {
    "execution": {
     "iopub.execute_input": "2022-11-11T17:18:50.219274Z",
     "iopub.status.busy": "2022-11-11T17:18:50.218871Z",
     "iopub.status.idle": "2022-11-11T17:19:07.127641Z",
     "shell.execute_reply": "2022-11-11T17:19:07.126029Z"
    },
    "papermill": {
     "duration": 16.923884,
     "end_time": "2022-11-11T17:19:07.131927",
     "exception": false,
     "start_time": "2022-11-11T17:18:50.208043",
     "status": "completed"
    },
    "tags": []
   },
   "outputs": [
    {
     "name": "stderr",
     "output_type": "stream",
     "text": [
      "C:\\Users\\galve\\AppData\\Local\\Temp\\ipykernel_2744\\3164084898.py:3: FutureWarning: The default value of regex will change from True to False in a future version.\n",
      "  twitterDM_df.columns = twitterDM_df.columns.str.replace('^tweet.', '')\n"
     ]
    },
    {
     "data": {
      "text/html": [
       "<div>\n",
       "<style scoped>\n",
       "    .dataframe tbody tr th:only-of-type {\n",
       "        vertical-align: middle;\n",
       "    }\n",
       "\n",
       "    .dataframe tbody tr th {\n",
       "        vertical-align: top;\n",
       "    }\n",
       "\n",
       "    .dataframe thead th {\n",
       "        text-align: right;\n",
       "    }\n",
       "</style>\n",
       "<table border=\"1\" class=\"dataframe\">\n",
       "  <thead>\n",
       "    <tr style=\"text-align: right;\">\n",
       "      <th></th>\n",
       "      <th>hashtags</th>\n",
       "      <th>tweet_id</th>\n",
       "      <th>text</th>\n",
       "    </tr>\n",
       "  </thead>\n",
       "  <tbody>\n",
       "    <tr>\n",
       "      <th>0</th>\n",
       "      <td>[Snapchat]</td>\n",
       "      <td>0x376b20</td>\n",
       "      <td>People who post \"add me on #Snapchat\" must be ...</td>\n",
       "    </tr>\n",
       "    <tr>\n",
       "      <th>1</th>\n",
       "      <td>[freepress, TrumpLegacy, CNN]</td>\n",
       "      <td>0x2d5350</td>\n",
       "      <td>@brianklaas As we see, Trump is dangerous to #...</td>\n",
       "    </tr>\n",
       "    <tr>\n",
       "      <th>2</th>\n",
       "      <td>[bibleverse]</td>\n",
       "      <td>0x28b412</td>\n",
       "      <td>Confident of your obedience, I write to you, k...</td>\n",
       "    </tr>\n",
       "    <tr>\n",
       "      <th>3</th>\n",
       "      <td>[]</td>\n",
       "      <td>0x1cd5b0</td>\n",
       "      <td>Now ISSA is stalking Tasha 😂😂😂 &lt;LH&gt;</td>\n",
       "    </tr>\n",
       "    <tr>\n",
       "      <th>4</th>\n",
       "      <td>[]</td>\n",
       "      <td>0x2de201</td>\n",
       "      <td>\"Trust is not the same as faith. A friend is s...</td>\n",
       "    </tr>\n",
       "    <tr>\n",
       "      <th>...</th>\n",
       "      <td>...</td>\n",
       "      <td>...</td>\n",
       "      <td>...</td>\n",
       "    </tr>\n",
       "    <tr>\n",
       "      <th>1867530</th>\n",
       "      <td>[mixedfeeling, butimTHATperson]</td>\n",
       "      <td>0x316b80</td>\n",
       "      <td>When you buy the last 2 tickets remaining for ...</td>\n",
       "    </tr>\n",
       "    <tr>\n",
       "      <th>1867531</th>\n",
       "      <td>[]</td>\n",
       "      <td>0x29d0cb</td>\n",
       "      <td>I swear all this hard work gone pay off one da...</td>\n",
       "    </tr>\n",
       "    <tr>\n",
       "      <th>1867532</th>\n",
       "      <td>[]</td>\n",
       "      <td>0x2a6a4f</td>\n",
       "      <td>@Parcel2Go no card left when I wasn't in so I ...</td>\n",
       "    </tr>\n",
       "    <tr>\n",
       "      <th>1867533</th>\n",
       "      <td>[]</td>\n",
       "      <td>0x24faed</td>\n",
       "      <td>Ah, corporate life, where you can date &lt;LH&gt; us...</td>\n",
       "    </tr>\n",
       "    <tr>\n",
       "      <th>1867534</th>\n",
       "      <td>[Sundayvibes]</td>\n",
       "      <td>0x34be8c</td>\n",
       "      <td>Blessed to be living #Sundayvibes &lt;LH&gt;</td>\n",
       "    </tr>\n",
       "  </tbody>\n",
       "</table>\n",
       "<p>1867535 rows × 3 columns</p>\n",
       "</div>"
      ],
      "text/plain": [
       "                                hashtags  tweet_id  \\\n",
       "0                             [Snapchat]  0x376b20   \n",
       "1          [freepress, TrumpLegacy, CNN]  0x2d5350   \n",
       "2                           [bibleverse]  0x28b412   \n",
       "3                                     []  0x1cd5b0   \n",
       "4                                     []  0x2de201   \n",
       "...                                  ...       ...   \n",
       "1867530  [mixedfeeling, butimTHATperson]  0x316b80   \n",
       "1867531                               []  0x29d0cb   \n",
       "1867532                               []  0x2a6a4f   \n",
       "1867533                               []  0x24faed   \n",
       "1867534                    [Sundayvibes]  0x34be8c   \n",
       "\n",
       "                                                      text  \n",
       "0        People who post \"add me on #Snapchat\" must be ...  \n",
       "1        @brianklaas As we see, Trump is dangerous to #...  \n",
       "2        Confident of your obedience, I write to you, k...  \n",
       "3                      Now ISSA is stalking Tasha 😂😂😂 <LH>  \n",
       "4        \"Trust is not the same as faith. A friend is s...  \n",
       "...                                                    ...  \n",
       "1867530  When you buy the last 2 tickets remaining for ...  \n",
       "1867531  I swear all this hard work gone pay off one da...  \n",
       "1867532  @Parcel2Go no card left when I wasn't in so I ...  \n",
       "1867533  Ah, corporate life, where you can date <LH> us...  \n",
       "1867534             Blessed to be living #Sundayvibes <LH>  \n",
       "\n",
       "[1867535 rows x 3 columns]"
      ]
     },
     "execution_count": 3,
     "metadata": {},
     "output_type": "execute_result"
    }
   ],
   "source": [
    "#Getting the Tweet Inform From the Source Column of the Original DF\n",
    "twitterDM_df = pd.json_normalize(twitter_df._source, record_prefix=None)\n",
    "twitterDM_df.columns = twitterDM_df.columns.str.replace('^tweet.', '')\n",
    "twitterDM_df"
   ]
  },
  {
   "cell_type": "code",
   "execution_count": 4,
   "id": "0e220b42",
   "metadata": {
    "execution": {
     "iopub.execute_input": "2022-11-11T17:19:07.154316Z",
     "iopub.status.busy": "2022-11-11T17:19:07.153846Z",
     "iopub.status.idle": "2022-11-11T17:19:08.681351Z",
     "shell.execute_reply": "2022-11-11T17:19:08.680170Z"
    },
    "papermill": {
     "duration": 1.541871,
     "end_time": "2022-11-11T17:19:08.684289",
     "exception": false,
     "start_time": "2022-11-11T17:19:07.142418",
     "status": "completed"
    },
    "tags": []
   },
   "outputs": [
    {
     "data": {
      "text/html": [
       "<div>\n",
       "<style scoped>\n",
       "    .dataframe tbody tr th:only-of-type {\n",
       "        vertical-align: middle;\n",
       "    }\n",
       "\n",
       "    .dataframe tbody tr th {\n",
       "        vertical-align: top;\n",
       "    }\n",
       "\n",
       "    .dataframe thead th {\n",
       "        text-align: right;\n",
       "    }\n",
       "</style>\n",
       "<table border=\"1\" class=\"dataframe\">\n",
       "  <thead>\n",
       "    <tr style=\"text-align: right;\">\n",
       "      <th></th>\n",
       "      <th>tweet_id</th>\n",
       "      <th>identification</th>\n",
       "    </tr>\n",
       "  </thead>\n",
       "  <tbody>\n",
       "    <tr>\n",
       "      <th>0</th>\n",
       "      <td>0x28cc61</td>\n",
       "      <td>test</td>\n",
       "    </tr>\n",
       "    <tr>\n",
       "      <th>1</th>\n",
       "      <td>0x29e452</td>\n",
       "      <td>train</td>\n",
       "    </tr>\n",
       "    <tr>\n",
       "      <th>2</th>\n",
       "      <td>0x2b3819</td>\n",
       "      <td>train</td>\n",
       "    </tr>\n",
       "    <tr>\n",
       "      <th>3</th>\n",
       "      <td>0x2db41f</td>\n",
       "      <td>test</td>\n",
       "    </tr>\n",
       "    <tr>\n",
       "      <th>4</th>\n",
       "      <td>0x2a2acc</td>\n",
       "      <td>train</td>\n",
       "    </tr>\n",
       "    <tr>\n",
       "      <th>...</th>\n",
       "      <td>...</td>\n",
       "      <td>...</td>\n",
       "    </tr>\n",
       "    <tr>\n",
       "      <th>1867530</th>\n",
       "      <td>0x227e25</td>\n",
       "      <td>train</td>\n",
       "    </tr>\n",
       "    <tr>\n",
       "      <th>1867531</th>\n",
       "      <td>0x293813</td>\n",
       "      <td>train</td>\n",
       "    </tr>\n",
       "    <tr>\n",
       "      <th>1867532</th>\n",
       "      <td>0x1e1a7e</td>\n",
       "      <td>train</td>\n",
       "    </tr>\n",
       "    <tr>\n",
       "      <th>1867533</th>\n",
       "      <td>0x2156a5</td>\n",
       "      <td>train</td>\n",
       "    </tr>\n",
       "    <tr>\n",
       "      <th>1867534</th>\n",
       "      <td>0x2bb9d2</td>\n",
       "      <td>train</td>\n",
       "    </tr>\n",
       "  </tbody>\n",
       "</table>\n",
       "<p>1867535 rows × 2 columns</p>\n",
       "</div>"
      ],
      "text/plain": [
       "         tweet_id identification\n",
       "0        0x28cc61           test\n",
       "1        0x29e452          train\n",
       "2        0x2b3819          train\n",
       "3        0x2db41f           test\n",
       "4        0x2a2acc          train\n",
       "...           ...            ...\n",
       "1867530  0x227e25          train\n",
       "1867531  0x293813          train\n",
       "1867532  0x1e1a7e          train\n",
       "1867533  0x2156a5          train\n",
       "1867534  0x2bb9d2          train\n",
       "\n",
       "[1867535 rows x 2 columns]"
      ]
     },
     "execution_count": 4,
     "metadata": {},
     "output_type": "execute_result"
    }
   ],
   "source": [
    "#Creating Data_Identification DF\n",
    "twitterID = \"Twitter/data_identification.csv\"\n",
    "twitid_df = pd.read_csv(twitterID)\n",
    "twitid_df"
   ]
  },
  {
   "cell_type": "code",
   "execution_count": 5,
   "id": "09f51538",
   "metadata": {
    "execution": {
     "iopub.execute_input": "2022-11-11T17:19:08.705888Z",
     "iopub.status.busy": "2022-11-11T17:19:08.705467Z",
     "iopub.status.idle": "2022-11-11T17:19:09.936270Z",
     "shell.execute_reply": "2022-11-11T17:19:09.935134Z"
    },
    "papermill": {
     "duration": 1.244023,
     "end_time": "2022-11-11T17:19:09.938671",
     "exception": false,
     "start_time": "2022-11-11T17:19:08.694648",
     "status": "completed"
    },
    "tags": []
   },
   "outputs": [
    {
     "data": {
      "text/html": [
       "<div>\n",
       "<style scoped>\n",
       "    .dataframe tbody tr th:only-of-type {\n",
       "        vertical-align: middle;\n",
       "    }\n",
       "\n",
       "    .dataframe tbody tr th {\n",
       "        vertical-align: top;\n",
       "    }\n",
       "\n",
       "    .dataframe thead th {\n",
       "        text-align: right;\n",
       "    }\n",
       "</style>\n",
       "<table border=\"1\" class=\"dataframe\">\n",
       "  <thead>\n",
       "    <tr style=\"text-align: right;\">\n",
       "      <th></th>\n",
       "      <th>tweet_id</th>\n",
       "      <th>emotion</th>\n",
       "    </tr>\n",
       "  </thead>\n",
       "  <tbody>\n",
       "    <tr>\n",
       "      <th>0</th>\n",
       "      <td>0x3140b1</td>\n",
       "      <td>sadness</td>\n",
       "    </tr>\n",
       "    <tr>\n",
       "      <th>1</th>\n",
       "      <td>0x368b73</td>\n",
       "      <td>disgust</td>\n",
       "    </tr>\n",
       "    <tr>\n",
       "      <th>2</th>\n",
       "      <td>0x296183</td>\n",
       "      <td>anticipation</td>\n",
       "    </tr>\n",
       "    <tr>\n",
       "      <th>3</th>\n",
       "      <td>0x2bd6e1</td>\n",
       "      <td>joy</td>\n",
       "    </tr>\n",
       "    <tr>\n",
       "      <th>4</th>\n",
       "      <td>0x2ee1dd</td>\n",
       "      <td>anticipation</td>\n",
       "    </tr>\n",
       "    <tr>\n",
       "      <th>...</th>\n",
       "      <td>...</td>\n",
       "      <td>...</td>\n",
       "    </tr>\n",
       "    <tr>\n",
       "      <th>1455558</th>\n",
       "      <td>0x38dba0</td>\n",
       "      <td>joy</td>\n",
       "    </tr>\n",
       "    <tr>\n",
       "      <th>1455559</th>\n",
       "      <td>0x300ea2</td>\n",
       "      <td>joy</td>\n",
       "    </tr>\n",
       "    <tr>\n",
       "      <th>1455560</th>\n",
       "      <td>0x360b99</td>\n",
       "      <td>fear</td>\n",
       "    </tr>\n",
       "    <tr>\n",
       "      <th>1455561</th>\n",
       "      <td>0x22eecf</td>\n",
       "      <td>joy</td>\n",
       "    </tr>\n",
       "    <tr>\n",
       "      <th>1455562</th>\n",
       "      <td>0x2fb282</td>\n",
       "      <td>anticipation</td>\n",
       "    </tr>\n",
       "  </tbody>\n",
       "</table>\n",
       "<p>1455563 rows × 2 columns</p>\n",
       "</div>"
      ],
      "text/plain": [
       "         tweet_id       emotion\n",
       "0        0x3140b1       sadness\n",
       "1        0x368b73       disgust\n",
       "2        0x296183  anticipation\n",
       "3        0x2bd6e1           joy\n",
       "4        0x2ee1dd  anticipation\n",
       "...           ...           ...\n",
       "1455558  0x38dba0           joy\n",
       "1455559  0x300ea2           joy\n",
       "1455560  0x360b99          fear\n",
       "1455561  0x22eecf           joy\n",
       "1455562  0x2fb282  anticipation\n",
       "\n",
       "[1455563 rows x 2 columns]"
      ]
     },
     "execution_count": 5,
     "metadata": {},
     "output_type": "execute_result"
    }
   ],
   "source": [
    "#Creating Emotion DF\n",
    "emotion = \"Twitter/emotion.csv\"\n",
    "twitemo_df = pd.read_csv(emotion)\n",
    "twitemo_df"
   ]
  },
  {
   "cell_type": "code",
   "execution_count": 6,
   "id": "e27e520c",
   "metadata": {
    "execution": {
     "iopub.execute_input": "2022-11-11T17:19:09.960104Z",
     "iopub.status.busy": "2022-11-11T17:19:09.959339Z",
     "iopub.status.idle": "2022-11-11T17:19:18.518104Z",
     "shell.execute_reply": "2022-11-11T17:19:18.517239Z"
    },
    "papermill": {
     "duration": 8.572628,
     "end_time": "2022-11-11T17:19:18.521010",
     "exception": false,
     "start_time": "2022-11-11T17:19:09.948382",
     "status": "completed"
    },
    "tags": []
   },
   "outputs": [
    {
     "data": {
      "text/html": [
       "<div>\n",
       "<style scoped>\n",
       "    .dataframe tbody tr th:only-of-type {\n",
       "        vertical-align: middle;\n",
       "    }\n",
       "\n",
       "    .dataframe tbody tr th {\n",
       "        vertical-align: top;\n",
       "    }\n",
       "\n",
       "    .dataframe thead th {\n",
       "        text-align: right;\n",
       "    }\n",
       "</style>\n",
       "<table border=\"1\" class=\"dataframe\">\n",
       "  <thead>\n",
       "    <tr style=\"text-align: right;\">\n",
       "      <th></th>\n",
       "      <th>tweet_id</th>\n",
       "      <th>hashtags</th>\n",
       "      <th>text</th>\n",
       "      <th>identification</th>\n",
       "      <th>emotion</th>\n",
       "    </tr>\n",
       "  </thead>\n",
       "  <tbody>\n",
       "    <tr>\n",
       "      <th>0</th>\n",
       "      <td>0x376b20</td>\n",
       "      <td>[Snapchat]</td>\n",
       "      <td>People who post \"add me on #Snapchat\" must be ...</td>\n",
       "      <td>train</td>\n",
       "      <td>anticipation</td>\n",
       "    </tr>\n",
       "    <tr>\n",
       "      <th>1</th>\n",
       "      <td>0x2d5350</td>\n",
       "      <td>[freepress, TrumpLegacy, CNN]</td>\n",
       "      <td>@brianklaas As we see, Trump is dangerous to #...</td>\n",
       "      <td>train</td>\n",
       "      <td>sadness</td>\n",
       "    </tr>\n",
       "    <tr>\n",
       "      <th>2</th>\n",
       "      <td>0x28b412</td>\n",
       "      <td>[bibleverse]</td>\n",
       "      <td>Confident of your obedience, I write to you, k...</td>\n",
       "      <td>test</td>\n",
       "      <td>NaN</td>\n",
       "    </tr>\n",
       "    <tr>\n",
       "      <th>3</th>\n",
       "      <td>0x1cd5b0</td>\n",
       "      <td>[]</td>\n",
       "      <td>Now ISSA is stalking Tasha 😂😂😂 &lt;LH&gt;</td>\n",
       "      <td>train</td>\n",
       "      <td>fear</td>\n",
       "    </tr>\n",
       "    <tr>\n",
       "      <th>4</th>\n",
       "      <td>0x2de201</td>\n",
       "      <td>[]</td>\n",
       "      <td>\"Trust is not the same as faith. A friend is s...</td>\n",
       "      <td>test</td>\n",
       "      <td>NaN</td>\n",
       "    </tr>\n",
       "    <tr>\n",
       "      <th>...</th>\n",
       "      <td>...</td>\n",
       "      <td>...</td>\n",
       "      <td>...</td>\n",
       "      <td>...</td>\n",
       "      <td>...</td>\n",
       "    </tr>\n",
       "    <tr>\n",
       "      <th>1867530</th>\n",
       "      <td>0x316b80</td>\n",
       "      <td>[mixedfeeling, butimTHATperson]</td>\n",
       "      <td>When you buy the last 2 tickets remaining for ...</td>\n",
       "      <td>test</td>\n",
       "      <td>NaN</td>\n",
       "    </tr>\n",
       "    <tr>\n",
       "      <th>1867531</th>\n",
       "      <td>0x29d0cb</td>\n",
       "      <td>[]</td>\n",
       "      <td>I swear all this hard work gone pay off one da...</td>\n",
       "      <td>test</td>\n",
       "      <td>NaN</td>\n",
       "    </tr>\n",
       "    <tr>\n",
       "      <th>1867532</th>\n",
       "      <td>0x2a6a4f</td>\n",
       "      <td>[]</td>\n",
       "      <td>@Parcel2Go no card left when I wasn't in so I ...</td>\n",
       "      <td>test</td>\n",
       "      <td>NaN</td>\n",
       "    </tr>\n",
       "    <tr>\n",
       "      <th>1867533</th>\n",
       "      <td>0x24faed</td>\n",
       "      <td>[]</td>\n",
       "      <td>Ah, corporate life, where you can date &lt;LH&gt; us...</td>\n",
       "      <td>train</td>\n",
       "      <td>joy</td>\n",
       "    </tr>\n",
       "    <tr>\n",
       "      <th>1867534</th>\n",
       "      <td>0x34be8c</td>\n",
       "      <td>[Sundayvibes]</td>\n",
       "      <td>Blessed to be living #Sundayvibes &lt;LH&gt;</td>\n",
       "      <td>train</td>\n",
       "      <td>joy</td>\n",
       "    </tr>\n",
       "  </tbody>\n",
       "</table>\n",
       "<p>1867535 rows × 5 columns</p>\n",
       "</div>"
      ],
      "text/plain": [
       "         tweet_id                         hashtags  \\\n",
       "0        0x376b20                       [Snapchat]   \n",
       "1        0x2d5350    [freepress, TrumpLegacy, CNN]   \n",
       "2        0x28b412                     [bibleverse]   \n",
       "3        0x1cd5b0                               []   \n",
       "4        0x2de201                               []   \n",
       "...           ...                              ...   \n",
       "1867530  0x316b80  [mixedfeeling, butimTHATperson]   \n",
       "1867531  0x29d0cb                               []   \n",
       "1867532  0x2a6a4f                               []   \n",
       "1867533  0x24faed                               []   \n",
       "1867534  0x34be8c                    [Sundayvibes]   \n",
       "\n",
       "                                                      text identification  \\\n",
       "0        People who post \"add me on #Snapchat\" must be ...          train   \n",
       "1        @brianklaas As we see, Trump is dangerous to #...          train   \n",
       "2        Confident of your obedience, I write to you, k...           test   \n",
       "3                      Now ISSA is stalking Tasha 😂😂😂 <LH>          train   \n",
       "4        \"Trust is not the same as faith. A friend is s...           test   \n",
       "...                                                    ...            ...   \n",
       "1867530  When you buy the last 2 tickets remaining for ...           test   \n",
       "1867531  I swear all this hard work gone pay off one da...           test   \n",
       "1867532  @Parcel2Go no card left when I wasn't in so I ...           test   \n",
       "1867533  Ah, corporate life, where you can date <LH> us...          train   \n",
       "1867534             Blessed to be living #Sundayvibes <LH>          train   \n",
       "\n",
       "              emotion  \n",
       "0        anticipation  \n",
       "1             sadness  \n",
       "2                 NaN  \n",
       "3                fear  \n",
       "4                 NaN  \n",
       "...               ...  \n",
       "1867530           NaN  \n",
       "1867531           NaN  \n",
       "1867532           NaN  \n",
       "1867533           joy  \n",
       "1867534           joy  \n",
       "\n",
       "[1867535 rows x 5 columns]"
      ]
     },
     "execution_count": 6,
     "metadata": {},
     "output_type": "execute_result"
    }
   ],
   "source": [
    "#Combining DataFrames\n",
    "dfs = [twitterDM_df,twitid_df,twitemo_df]\n",
    "twitcom_df = pd.concat([x.set_index('tweet_id') for x in dfs], axis=1).reset_index()\n",
    "twitcom_df"
   ]
  },
  {
   "cell_type": "code",
   "execution_count": 7,
   "id": "da44d7cb",
   "metadata": {
    "execution": {
     "iopub.execute_input": "2022-11-11T17:19:18.548834Z",
     "iopub.status.busy": "2022-11-11T17:19:18.547865Z",
     "iopub.status.idle": "2022-11-11T17:19:19.648380Z",
     "shell.execute_reply": "2022-11-11T17:19:19.647387Z"
    },
    "papermill": {
     "duration": 1.115188,
     "end_time": "2022-11-11T17:19:19.651066",
     "exception": false,
     "start_time": "2022-11-11T17:19:18.535878",
     "status": "completed"
    },
    "tags": []
   },
   "outputs": [],
   "source": [
    "#Extracting the Training and testing Data\n",
    "twitTrain_df = twitcom_df.loc[twitcom_df['identification'] == 'train']\n",
    "twitTest_df = twitcom_df.loc[twitcom_df['identification'] == 'test']\n"
   ]
  },
  {
   "cell_type": "markdown",
   "id": "9d8b6887",
   "metadata": {
    "papermill": {
     "duration": 0.009276,
     "end_time": "2022-11-11T17:19:19.670229",
     "exception": false,
     "start_time": "2022-11-11T17:19:19.660953",
     "status": "completed"
    },
    "tags": []
   },
   "source": [
    "### Indexes had to be reset for other uses after everything was separated."
   ]
  },
  {
   "cell_type": "code",
   "execution_count": 8,
   "id": "d797edd5",
   "metadata": {
    "execution": {
     "iopub.execute_input": "2022-11-11T17:19:19.691311Z",
     "iopub.status.busy": "2022-11-11T17:19:19.690925Z",
     "iopub.status.idle": "2022-11-11T17:19:19.708945Z",
     "shell.execute_reply": "2022-11-11T17:19:19.707811Z"
    },
    "papermill": {
     "duration": 0.031489,
     "end_time": "2022-11-11T17:19:19.711381",
     "exception": false,
     "start_time": "2022-11-11T17:19:19.679892",
     "status": "completed"
    },
    "tags": []
   },
   "outputs": [
    {
     "data": {
      "text/html": [
       "<div>\n",
       "<style scoped>\n",
       "    .dataframe tbody tr th:only-of-type {\n",
       "        vertical-align: middle;\n",
       "    }\n",
       "\n",
       "    .dataframe tbody tr th {\n",
       "        vertical-align: top;\n",
       "    }\n",
       "\n",
       "    .dataframe thead th {\n",
       "        text-align: right;\n",
       "    }\n",
       "</style>\n",
       "<table border=\"1\" class=\"dataframe\">\n",
       "  <thead>\n",
       "    <tr style=\"text-align: right;\">\n",
       "      <th></th>\n",
       "      <th>tweet_id</th>\n",
       "      <th>hashtags</th>\n",
       "      <th>text</th>\n",
       "      <th>identification</th>\n",
       "      <th>emotion</th>\n",
       "    </tr>\n",
       "  </thead>\n",
       "  <tbody>\n",
       "    <tr>\n",
       "      <th>0</th>\n",
       "      <td>0x376b20</td>\n",
       "      <td>[Snapchat]</td>\n",
       "      <td>People who post \"add me on #Snapchat\" must be ...</td>\n",
       "      <td>train</td>\n",
       "      <td>anticipation</td>\n",
       "    </tr>\n",
       "    <tr>\n",
       "      <th>1</th>\n",
       "      <td>0x2d5350</td>\n",
       "      <td>[freepress, TrumpLegacy, CNN]</td>\n",
       "      <td>@brianklaas As we see, Trump is dangerous to #...</td>\n",
       "      <td>train</td>\n",
       "      <td>sadness</td>\n",
       "    </tr>\n",
       "    <tr>\n",
       "      <th>2</th>\n",
       "      <td>0x1cd5b0</td>\n",
       "      <td>[]</td>\n",
       "      <td>Now ISSA is stalking Tasha 😂😂😂 &lt;LH&gt;</td>\n",
       "      <td>train</td>\n",
       "      <td>fear</td>\n",
       "    </tr>\n",
       "    <tr>\n",
       "      <th>3</th>\n",
       "      <td>0x1d755c</td>\n",
       "      <td>[authentic, LaughOutLoud]</td>\n",
       "      <td>@RISKshow @TheKevinAllison Thx for the BEST TI...</td>\n",
       "      <td>train</td>\n",
       "      <td>joy</td>\n",
       "    </tr>\n",
       "    <tr>\n",
       "      <th>4</th>\n",
       "      <td>0x2c91a8</td>\n",
       "      <td>[]</td>\n",
       "      <td>Still waiting on those supplies Liscus. &lt;LH&gt;</td>\n",
       "      <td>train</td>\n",
       "      <td>anticipation</td>\n",
       "    </tr>\n",
       "    <tr>\n",
       "      <th>...</th>\n",
       "      <td>...</td>\n",
       "      <td>...</td>\n",
       "      <td>...</td>\n",
       "      <td>...</td>\n",
       "      <td>...</td>\n",
       "    </tr>\n",
       "    <tr>\n",
       "      <th>1455558</th>\n",
       "      <td>0x321566</td>\n",
       "      <td>[NoWonder, Happy]</td>\n",
       "      <td>I'm SO HAPPY!!! #NoWonder the name of this sho...</td>\n",
       "      <td>train</td>\n",
       "      <td>joy</td>\n",
       "    </tr>\n",
       "    <tr>\n",
       "      <th>1455559</th>\n",
       "      <td>0x38959e</td>\n",
       "      <td>[]</td>\n",
       "      <td>In every circumtance I'd like to be thankful t...</td>\n",
       "      <td>train</td>\n",
       "      <td>joy</td>\n",
       "    </tr>\n",
       "    <tr>\n",
       "      <th>1455560</th>\n",
       "      <td>0x2cbca6</td>\n",
       "      <td>[blessyou]</td>\n",
       "      <td>there's currently two girls walking around the...</td>\n",
       "      <td>train</td>\n",
       "      <td>joy</td>\n",
       "    </tr>\n",
       "    <tr>\n",
       "      <th>1455561</th>\n",
       "      <td>0x24faed</td>\n",
       "      <td>[]</td>\n",
       "      <td>Ah, corporate life, where you can date &lt;LH&gt; us...</td>\n",
       "      <td>train</td>\n",
       "      <td>joy</td>\n",
       "    </tr>\n",
       "    <tr>\n",
       "      <th>1455562</th>\n",
       "      <td>0x34be8c</td>\n",
       "      <td>[Sundayvibes]</td>\n",
       "      <td>Blessed to be living #Sundayvibes &lt;LH&gt;</td>\n",
       "      <td>train</td>\n",
       "      <td>joy</td>\n",
       "    </tr>\n",
       "  </tbody>\n",
       "</table>\n",
       "<p>1455563 rows × 5 columns</p>\n",
       "</div>"
      ],
      "text/plain": [
       "         tweet_id                       hashtags  \\\n",
       "0        0x376b20                     [Snapchat]   \n",
       "1        0x2d5350  [freepress, TrumpLegacy, CNN]   \n",
       "2        0x1cd5b0                             []   \n",
       "3        0x1d755c      [authentic, LaughOutLoud]   \n",
       "4        0x2c91a8                             []   \n",
       "...           ...                            ...   \n",
       "1455558  0x321566              [NoWonder, Happy]   \n",
       "1455559  0x38959e                             []   \n",
       "1455560  0x2cbca6                     [blessyou]   \n",
       "1455561  0x24faed                             []   \n",
       "1455562  0x34be8c                  [Sundayvibes]   \n",
       "\n",
       "                                                      text identification  \\\n",
       "0        People who post \"add me on #Snapchat\" must be ...          train   \n",
       "1        @brianklaas As we see, Trump is dangerous to #...          train   \n",
       "2                      Now ISSA is stalking Tasha 😂😂😂 <LH>          train   \n",
       "3        @RISKshow @TheKevinAllison Thx for the BEST TI...          train   \n",
       "4             Still waiting on those supplies Liscus. <LH>          train   \n",
       "...                                                    ...            ...   \n",
       "1455558  I'm SO HAPPY!!! #NoWonder the name of this sho...          train   \n",
       "1455559  In every circumtance I'd like to be thankful t...          train   \n",
       "1455560  there's currently two girls walking around the...          train   \n",
       "1455561  Ah, corporate life, where you can date <LH> us...          train   \n",
       "1455562             Blessed to be living #Sundayvibes <LH>          train   \n",
       "\n",
       "              emotion  \n",
       "0        anticipation  \n",
       "1             sadness  \n",
       "2                fear  \n",
       "3                 joy  \n",
       "4        anticipation  \n",
       "...               ...  \n",
       "1455558           joy  \n",
       "1455559           joy  \n",
       "1455560           joy  \n",
       "1455561           joy  \n",
       "1455562           joy  \n",
       "\n",
       "[1455563 rows x 5 columns]"
      ]
     },
     "execution_count": 8,
     "metadata": {},
     "output_type": "execute_result"
    }
   ],
   "source": [
    "#Reseting and Testing Train Dataframe\n",
    "twitTrain_df.reset_index(drop=True, inplace=True)\n",
    "twitTrain_df"
   ]
  },
  {
   "cell_type": "code",
   "execution_count": 9,
   "id": "e0a63d51",
   "metadata": {
    "execution": {
     "iopub.execute_input": "2022-11-11T17:19:19.733019Z",
     "iopub.status.busy": "2022-11-11T17:19:19.732622Z",
     "iopub.status.idle": "2022-11-11T17:19:19.750065Z",
     "shell.execute_reply": "2022-11-11T17:19:19.749260Z"
    },
    "papermill": {
     "duration": 0.030946,
     "end_time": "2022-11-11T17:19:19.752378",
     "exception": false,
     "start_time": "2022-11-11T17:19:19.721432",
     "status": "completed"
    },
    "tags": []
   },
   "outputs": [
    {
     "data": {
      "text/html": [
       "<div>\n",
       "<style scoped>\n",
       "    .dataframe tbody tr th:only-of-type {\n",
       "        vertical-align: middle;\n",
       "    }\n",
       "\n",
       "    .dataframe tbody tr th {\n",
       "        vertical-align: top;\n",
       "    }\n",
       "\n",
       "    .dataframe thead th {\n",
       "        text-align: right;\n",
       "    }\n",
       "</style>\n",
       "<table border=\"1\" class=\"dataframe\">\n",
       "  <thead>\n",
       "    <tr style=\"text-align: right;\">\n",
       "      <th></th>\n",
       "      <th>tweet_id</th>\n",
       "      <th>hashtags</th>\n",
       "      <th>text</th>\n",
       "      <th>identification</th>\n",
       "      <th>emotion</th>\n",
       "    </tr>\n",
       "  </thead>\n",
       "  <tbody>\n",
       "    <tr>\n",
       "      <th>0</th>\n",
       "      <td>0x28b412</td>\n",
       "      <td>[bibleverse]</td>\n",
       "      <td>Confident of your obedience, I write to you, k...</td>\n",
       "      <td>test</td>\n",
       "      <td>NaN</td>\n",
       "    </tr>\n",
       "    <tr>\n",
       "      <th>1</th>\n",
       "      <td>0x2de201</td>\n",
       "      <td>[]</td>\n",
       "      <td>\"Trust is not the same as faith. A friend is s...</td>\n",
       "      <td>test</td>\n",
       "      <td>NaN</td>\n",
       "    </tr>\n",
       "    <tr>\n",
       "      <th>2</th>\n",
       "      <td>0x218443</td>\n",
       "      <td>[materialism, money, possessions]</td>\n",
       "      <td>When do you have enough ? When are you satisfi...</td>\n",
       "      <td>test</td>\n",
       "      <td>NaN</td>\n",
       "    </tr>\n",
       "    <tr>\n",
       "      <th>3</th>\n",
       "      <td>0x2939d5</td>\n",
       "      <td>[GodsPlan, GodsWork]</td>\n",
       "      <td>God woke you up, now chase the day #GodsPlan #...</td>\n",
       "      <td>test</td>\n",
       "      <td>NaN</td>\n",
       "    </tr>\n",
       "    <tr>\n",
       "      <th>4</th>\n",
       "      <td>0x26289a</td>\n",
       "      <td>[]</td>\n",
       "      <td>In these tough times, who do YOU turn to as yo...</td>\n",
       "      <td>test</td>\n",
       "      <td>NaN</td>\n",
       "    </tr>\n",
       "    <tr>\n",
       "      <th>...</th>\n",
       "      <td>...</td>\n",
       "      <td>...</td>\n",
       "      <td>...</td>\n",
       "      <td>...</td>\n",
       "      <td>...</td>\n",
       "    </tr>\n",
       "    <tr>\n",
       "      <th>411967</th>\n",
       "      <td>0x2913b4</td>\n",
       "      <td>[]</td>\n",
       "      <td>\"For this is the message that ye heard from th...</td>\n",
       "      <td>test</td>\n",
       "      <td>NaN</td>\n",
       "    </tr>\n",
       "    <tr>\n",
       "      <th>411968</th>\n",
       "      <td>0x2a980e</td>\n",
       "      <td>[]</td>\n",
       "      <td>\"There is a lad here, which hath five barley l...</td>\n",
       "      <td>test</td>\n",
       "      <td>NaN</td>\n",
       "    </tr>\n",
       "    <tr>\n",
       "      <th>411969</th>\n",
       "      <td>0x316b80</td>\n",
       "      <td>[mixedfeeling, butimTHATperson]</td>\n",
       "      <td>When you buy the last 2 tickets remaining for ...</td>\n",
       "      <td>test</td>\n",
       "      <td>NaN</td>\n",
       "    </tr>\n",
       "    <tr>\n",
       "      <th>411970</th>\n",
       "      <td>0x29d0cb</td>\n",
       "      <td>[]</td>\n",
       "      <td>I swear all this hard work gone pay off one da...</td>\n",
       "      <td>test</td>\n",
       "      <td>NaN</td>\n",
       "    </tr>\n",
       "    <tr>\n",
       "      <th>411971</th>\n",
       "      <td>0x2a6a4f</td>\n",
       "      <td>[]</td>\n",
       "      <td>@Parcel2Go no card left when I wasn't in so I ...</td>\n",
       "      <td>test</td>\n",
       "      <td>NaN</td>\n",
       "    </tr>\n",
       "  </tbody>\n",
       "</table>\n",
       "<p>411972 rows × 5 columns</p>\n",
       "</div>"
      ],
      "text/plain": [
       "        tweet_id                           hashtags  \\\n",
       "0       0x28b412                       [bibleverse]   \n",
       "1       0x2de201                                 []   \n",
       "2       0x218443  [materialism, money, possessions]   \n",
       "3       0x2939d5               [GodsPlan, GodsWork]   \n",
       "4       0x26289a                                 []   \n",
       "...          ...                                ...   \n",
       "411967  0x2913b4                                 []   \n",
       "411968  0x2a980e                                 []   \n",
       "411969  0x316b80    [mixedfeeling, butimTHATperson]   \n",
       "411970  0x29d0cb                                 []   \n",
       "411971  0x2a6a4f                                 []   \n",
       "\n",
       "                                                     text identification  \\\n",
       "0       Confident of your obedience, I write to you, k...           test   \n",
       "1       \"Trust is not the same as faith. A friend is s...           test   \n",
       "2       When do you have enough ? When are you satisfi...           test   \n",
       "3       God woke you up, now chase the day #GodsPlan #...           test   \n",
       "4       In these tough times, who do YOU turn to as yo...           test   \n",
       "...                                                   ...            ...   \n",
       "411967  \"For this is the message that ye heard from th...           test   \n",
       "411968  \"There is a lad here, which hath five barley l...           test   \n",
       "411969  When you buy the last 2 tickets remaining for ...           test   \n",
       "411970  I swear all this hard work gone pay off one da...           test   \n",
       "411971  @Parcel2Go no card left when I wasn't in so I ...           test   \n",
       "\n",
       "       emotion  \n",
       "0          NaN  \n",
       "1          NaN  \n",
       "2          NaN  \n",
       "3          NaN  \n",
       "4          NaN  \n",
       "...        ...  \n",
       "411967     NaN  \n",
       "411968     NaN  \n",
       "411969     NaN  \n",
       "411970     NaN  \n",
       "411971     NaN  \n",
       "\n",
       "[411972 rows x 5 columns]"
      ]
     },
     "execution_count": 9,
     "metadata": {},
     "output_type": "execute_result"
    }
   ],
   "source": [
    "#Reseting and Testing Test Dataframe\n",
    "twitTest_df.reset_index(drop=True, inplace=True)\n",
    "twitTest_df"
   ]
  },
  {
   "cell_type": "code",
   "execution_count": 10,
   "id": "b686031c",
   "metadata": {},
   "outputs": [],
   "source": [
    "from sklearn.model_selection import train_test_split\n",
    "X_train, X_test, y_train, y_test = train_test_split(twitTrain_df['text'], twitTrain_df['emotion'], test_size=0.2, random_state=42)"
   ]
  },
  {
   "cell_type": "code",
   "execution_count": 11,
   "id": "50ed39f1",
   "metadata": {},
   "outputs": [
    {
     "data": {
      "text/plain": [
       "('@sydbell1 @strut4cancer £50 donates to Macmillan       👍😎👌 <LH> !!', 'joy')"
      ]
     },
     "execution_count": 11,
     "metadata": {},
     "output_type": "execute_result"
    }
   ],
   "source": [
    "X_train[50], y_train[50]"
   ]
  },
  {
   "cell_type": "code",
   "execution_count": 12,
   "id": "95be7314",
   "metadata": {
    "execution": {
     "iopub.execute_input": "2022-11-11T17:19:19.774946Z",
     "iopub.status.busy": "2022-11-11T17:19:19.774242Z",
     "iopub.status.idle": "2022-11-11T17:19:19.780968Z",
     "shell.execute_reply": "2022-11-11T17:19:19.779930Z"
    },
    "papermill": {
     "duration": 0.020542,
     "end_time": "2022-11-11T17:19:19.783253",
     "exception": false,
     "start_time": "2022-11-11T17:19:19.762711",
     "status": "completed"
    },
    "tags": []
   },
   "outputs": [],
   "source": [
    "# #Extracting and Testing Training Data\n",
    "# tweets_train = twitTrain_df['text']\n",
    "# emolabel_train = twitTrain_df['emotion']\n",
    "# tweets_train[50], emolabel_train[50]"
   ]
  },
  {
   "cell_type": "markdown",
   "id": "4fac42ec",
   "metadata": {
    "papermill": {
     "duration": 0.009725,
     "end_time": "2022-11-11T17:19:19.803248",
     "exception": false,
     "start_time": "2022-11-11T17:19:19.793523",
     "status": "completed"
    },
    "tags": []
   },
   "source": [
    "# 3. Preprocessing\n",
    "Originally, no preprocessing was done. This was becuase I thought that even without it I would still be able to get a decent accuracy. An assumption that proved to be true. With that being said, for some reason or another, I decided to add preprocessing of the data to see how far I could take this so I created another multiple Versions, including one with removing stopword and one that doesn't remove stop words and also demokize emoji. Aside from those unique version, the preprocessing step was mostly to remove usernames, one letter words, unnecessary  spaces, the lower of text for uniformity and word lemmetimization. I also wanted to do more but I think I did enough at the time. I would later understand the negatives of this action as mentioned in the following section."
   ]
  },
  {
   "cell_type": "markdown",
   "id": "4b34519e",
   "metadata": {
    "papermill": {
     "duration": 0.009698,
     "end_time": "2022-11-11T17:19:19.823290",
     "exception": false,
     "start_time": "2022-11-11T17:19:19.813592",
     "status": "completed"
    },
    "tags": []
   },
   "source": [
    "# 4 Tokenization\n",
    "As mentioned before, certain decision were decided due to the speed of how things could be. Here is where that started, with usage of Tensorflow, Keras, and trying to make code that make things faster but instead made things longer. I decided to go with the Keras Tokenization as I was able to set a limit of words to be used, as well as it being very compatible with padding. This solution performed well as it was able to still provided a relatively decent accuracy predicition overall. \n",
    "\n",
    "This Tokenization class from Keras allows to vectorize a text corpus, by turning each text into either a sequence of integers, each integer being the index of a token in a dictionary, or into a vector where the coefficient for each token could be binary, based on word count, based on tf-idf.\n",
    "\n",
    "By default, all punctuation is removed, turning the texts into space-separated sequences of words. These sequences are then split into lists of tokens. They will then be indexed or vectorized. Other Pre-Processing Plans. As Observed in Pre-Processing Versions had the tweet cleaned ahead of time, thus, I had concluded the manuak pre-processing steps I utilized in the other version negatively impacted the current optimal version. As such, the separation and modification of different verrsions were decided. Potentially, the manual Pre-Processing can be improved by adding or removing some functions or the main version can be improved with minimal Pre-Processing to add emojis to the tokenization.\n",
    "\n",
    "After much thought, changes were made to the tokenization and the utilization of utilizing the entire word bank."
   ]
  },
  {
   "cell_type": "code",
   "execution_count": 13,
   "id": "096e22a1",
   "metadata": {},
   "outputs": [],
   "source": [
    "from tensorflow.keras.preprocessing.text import Tokenizer\n",
    "tokenizer = Tokenizer(num_words = 200000, oov_token='UNK')\n",
    "tokenizer.fit_on_texts(X_train) "
   ]
  },
  {
   "cell_type": "code",
   "execution_count": 14,
   "id": "d156c325",
   "metadata": {
    "scrolled": true
   },
   "outputs": [
    {
     "name": "stdout",
     "output_type": "stream",
     "text": [
      "[[1, 1, 17444, 32012, 4, 39807, 1, 2]]\n"
     ]
    }
   ],
   "source": [
    "print(tokenizer.texts_to_sequences([X_train[50]]))"
   ]
  },
  {
   "cell_type": "code",
   "execution_count": 15,
   "id": "09dea4cd",
   "metadata": {
    "execution": {
     "iopub.execute_input": "2022-11-11T17:19:19.845827Z",
     "iopub.status.busy": "2022-11-11T17:19:19.845057Z",
     "iopub.status.idle": "2022-11-11T17:20:10.817877Z",
     "shell.execute_reply": "2022-11-11T17:20:10.816617Z"
    },
    "papermill": {
     "duration": 50.997711,
     "end_time": "2022-11-11T17:20:10.831271",
     "exception": false,
     "start_time": "2022-11-11T17:19:19.833560",
     "status": "completed"
    },
    "tags": []
   },
   "outputs": [],
   "source": [
    "# #Initialization of Tokenization of Tweets using Keras Tokoenizer\n",
    "# from tensorflow.keras.preprocessing.text import Tokenizer\n",
    "# tokenizer = Tokenizer(num_words = 50000)#Num_words choses due to trial and error.\n",
    "\n",
    "# tokenizer.fit_on_texts(tweets_train) \n",
    "\n",
    "# print(tokenizer.texts_to_sequences([tweets_train[50]]))\n"
   ]
  },
  {
   "cell_type": "markdown",
   "id": "205c6751",
   "metadata": {
    "papermill": {
     "duration": 0.010136,
     "end_time": "2022-11-11T17:20:10.851870",
     "exception": false,
     "start_time": "2022-11-11T17:20:10.841734",
     "status": "completed"
    },
    "tags": []
   },
   "source": [
    "### Due to the model being used works best with a fixed input, data must be padded to be properly utilized. "
   ]
  },
  {
   "cell_type": "code",
   "execution_count": 16,
   "id": "fb575bd3",
   "metadata": {
    "execution": {
     "iopub.execute_input": "2022-11-11T17:20:10.875102Z",
     "iopub.status.busy": "2022-11-11T17:20:10.874335Z",
     "iopub.status.idle": "2022-11-11T17:20:18.083030Z",
     "shell.execute_reply": "2022-11-11T17:20:18.081639Z"
    },
    "papermill": {
     "duration": 7.22327,
     "end_time": "2022-11-11T17:20:18.085767",
     "exception": false,
     "start_time": "2022-11-11T17:20:10.862497",
     "status": "completed"
    },
    "tags": []
   },
   "outputs": [
    {
     "data": {
      "image/png": "[encoded data removed]",
      "text/plain": [
       "<Figure size 2000x1000 with 1 Axes>"
      ]
     },
     "metadata": {},
     "output_type": "display_data"
    }
   ],
   "source": [
    "#First we need to see how much we need to pad it to get the most of it.\n",
    "import matplotlib.pyplot as plt\n",
    "\n",
    "lengths = [len(t.split(' ')) for t in X_train]\n",
    "fig = plt.figure(figsize=(20, 10))\n",
    "plt.hist(lengths, bins=len(set(lengths)))\n",
    "plt.show()"
   ]
  },
  {
   "cell_type": "markdown",
   "id": "37384d7d",
   "metadata": {
    "papermill": {
     "duration": 0.011086,
     "end_time": "2022-11-11T17:20:18.107964",
     "exception": false,
     "start_time": "2022-11-11T17:20:18.096878",
     "status": "completed"
    },
    "tags": []
   },
   "source": [
    "### The histogram shows us the lenght of the sequence of texts and as such we can pad it to have the most included.\n",
    "The model used utilizes data being in a set length and so padding was done. By utilizing the histogram, it was decided that either 30 or 40 will be used, with 30 being the one with the most consistent result."
   ]
  },
  {
   "cell_type": "code",
   "execution_count": 17,
   "id": "c06eb87d",
   "metadata": {
    "execution": {
     "iopub.execute_input": "2022-11-11T17:20:18.131337Z",
     "iopub.status.busy": "2022-11-11T17:20:18.130911Z",
     "iopub.status.idle": "2022-11-11T17:20:58.038960Z",
     "shell.execute_reply": "2022-11-11T17:20:58.037712Z"
    },
    "papermill": {
     "duration": 39.932901,
     "end_time": "2022-11-11T17:20:58.051725",
     "exception": false,
     "start_time": "2022-11-11T17:20:18.118824",
     "status": "completed"
    },
    "tags": []
   },
   "outputs": [
    {
     "data": {
      "text/plain": [
       "array([   109,     12,    734,  80948,      8,      3,    750,     11,\n",
       "         1229,    174,     47,     84,     26,    138,     25, 130359,\n",
       "         8066,   7543,   1784,      2,  28997,      0,      0,      0,\n",
       "            0,      0,      0,      0,      0,      0])"
      ]
     },
     "execution_count": 17,
     "metadata": {},
     "output_type": "execute_result"
    }
   ],
   "source": [
    "from tensorflow.keras.preprocessing.sequence import pad_sequences\n",
    "\n",
    "sequences = tokenizer.texts_to_sequences(X_train)\n",
    "tweets_train_pad = pad_sequences(sequences, truncating='post', maxlen=30, padding='post')\n",
    "tweets_train_pad[50]"
   ]
  },
  {
   "cell_type": "markdown",
   "id": "6beb917e",
   "metadata": {
    "papermill": {
     "duration": 0.010719,
     "end_time": "2022-11-11T17:20:58.073483",
     "exception": false,
     "start_time": "2022-11-11T17:20:58.062764",
     "status": "completed"
    },
    "tags": []
   },
   "source": [
    "### Labels were set and functions were created that could easily convert the emotions to a value to be used in the training of the model and convert those values back to string.\n"
   ]
  },
  {
   "cell_type": "code",
   "execution_count": 18,
   "id": "9375709a",
   "metadata": {
    "execution": {
     "iopub.execute_input": "2022-11-11T17:20:58.097971Z",
     "iopub.status.busy": "2022-11-11T17:20:58.096854Z",
     "iopub.status.idle": "2022-11-11T17:20:58.257812Z",
     "shell.execute_reply": "2022-11-11T17:20:58.256497Z"
    },
    "papermill": {
     "duration": 0.175817,
     "end_time": "2022-11-11T17:20:58.260229",
     "exception": false,
     "start_time": "2022-11-11T17:20:58.084412",
     "status": "completed"
    },
    "tags": []
   },
   "outputs": [
    {
     "name": "stdout",
     "output_type": "stream",
     "text": [
      "{'anticipation', 'disgust', 'joy', 'fear', 'anger', 'trust', 'surprise', 'sadness'}\n"
     ]
    }
   ],
   "source": [
    "classes = set(y_train)\n",
    "print(classes)"
   ]
  },
  {
   "cell_type": "code",
   "execution_count": 19,
   "id": "6b42bbca",
   "metadata": {
    "execution": {
     "iopub.execute_input": "2022-11-11T17:20:58.285080Z",
     "iopub.status.busy": "2022-11-11T17:20:58.284692Z",
     "iopub.status.idle": "2022-11-11T17:20:58.290826Z",
     "shell.execute_reply": "2022-11-11T17:20:58.289429Z"
    },
    "papermill": {
     "duration": 0.021488,
     "end_time": "2022-11-11T17:20:58.293399",
     "exception": false,
     "start_time": "2022-11-11T17:20:58.271911",
     "status": "completed"
    },
    "tags": []
   },
   "outputs": [],
   "source": [
    "classes_to_index = dict((c, i) for i, c in enumerate(classes))\n",
    "index_to_classes = dict((v, k) for k, v in classes_to_index.items())"
   ]
  },
  {
   "cell_type": "code",
   "execution_count": 20,
   "id": "c6faba42",
   "metadata": {
    "execution": {
     "iopub.execute_input": "2022-11-11T17:20:58.318412Z",
     "iopub.status.busy": "2022-11-11T17:20:58.317988Z",
     "iopub.status.idle": "2022-11-11T17:20:58.326066Z",
     "shell.execute_reply": "2022-11-11T17:20:58.324799Z"
    },
    "papermill": {
     "duration": 0.023454,
     "end_time": "2022-11-11T17:20:58.328301",
     "exception": false,
     "start_time": "2022-11-11T17:20:58.304847",
     "status": "completed"
    },
    "tags": []
   },
   "outputs": [
    {
     "data": {
      "text/plain": [
       "{'anticipation': 0,\n",
       " 'disgust': 1,\n",
       " 'joy': 2,\n",
       " 'fear': 3,\n",
       " 'anger': 4,\n",
       " 'trust': 5,\n",
       " 'surprise': 6,\n",
       " 'sadness': 7}"
      ]
     },
     "execution_count": 20,
     "metadata": {},
     "output_type": "execute_result"
    }
   ],
   "source": [
    "classes_to_index"
   ]
  },
  {
   "cell_type": "code",
   "execution_count": 21,
   "id": "5bc2ed24",
   "metadata": {
    "execution": {
     "iopub.execute_input": "2022-11-11T17:20:58.352601Z",
     "iopub.status.busy": "2022-11-11T17:20:58.352182Z",
     "iopub.status.idle": "2022-11-11T17:20:58.359131Z",
     "shell.execute_reply": "2022-11-11T17:20:58.357941Z"
    },
    "papermill": {
     "duration": 0.022091,
     "end_time": "2022-11-11T17:20:58.361564",
     "exception": false,
     "start_time": "2022-11-11T17:20:58.339473",
     "status": "completed"
    },
    "tags": []
   },
   "outputs": [
    {
     "data": {
      "text/plain": [
       "{0: 'anticipation',\n",
       " 1: 'disgust',\n",
       " 2: 'joy',\n",
       " 3: 'fear',\n",
       " 4: 'anger',\n",
       " 5: 'trust',\n",
       " 6: 'surprise',\n",
       " 7: 'sadness'}"
      ]
     },
     "execution_count": 21,
     "metadata": {},
     "output_type": "execute_result"
    }
   ],
   "source": [
    "index_to_classes"
   ]
  },
  {
   "cell_type": "code",
   "execution_count": 22,
   "id": "387aae7d",
   "metadata": {
    "execution": {
     "iopub.execute_input": "2022-11-11T17:20:58.387744Z",
     "iopub.status.busy": "2022-11-11T17:20:58.386864Z",
     "iopub.status.idle": "2022-11-11T17:20:58.393108Z",
     "shell.execute_reply": "2022-11-11T17:20:58.392085Z"
    },
    "papermill": {
     "duration": 0.021936,
     "end_time": "2022-11-11T17:20:58.395425",
     "exception": false,
     "start_time": "2022-11-11T17:20:58.373489",
     "status": "completed"
    },
    "tags": []
   },
   "outputs": [],
   "source": [
    "#Function used to convert string values to numeric values to be used in training along with the padded data.\n",
    "names_to_ids = lambda labels: np.array([classes_to_index.get(x) for x in labels])\n",
    "ids_to_names = lambda labels: np.array([index_to_classes.get(x) for x in labels])"
   ]
  },
  {
   "cell_type": "code",
   "execution_count": 23,
   "id": "865ddee8",
   "metadata": {
    "execution": {
     "iopub.execute_input": "2022-11-11T17:20:58.421755Z",
     "iopub.status.busy": "2022-11-11T17:20:58.420970Z",
     "iopub.status.idle": "2022-11-11T17:20:58.895279Z",
     "shell.execute_reply": "2022-11-11T17:20:58.893942Z"
    },
    "papermill": {
     "duration": 0.490102,
     "end_time": "2022-11-11T17:20:58.897766",
     "exception": false,
     "start_time": "2022-11-11T17:20:58.407664",
     "status": "completed"
    },
    "tags": []
   },
   "outputs": [
    {
     "name": "stdout",
     "output_type": "stream",
     "text": [
      "People who post \"add me on #Snapchat\" must be dehydrated. Cuz man.... that's <LH>\n",
      "anticipation\n",
      "2\n"
     ]
    }
   ],
   "source": [
    "train_emolabels = names_to_ids(y_train)\n",
    "print (X_train[0])\n",
    "print (y_train[0])\n",
    "print(train_emolabels[0])"
   ]
  },
  {
   "cell_type": "markdown",
   "id": "7407c27e",
   "metadata": {
    "papermill": {
     "duration": 0.011476,
     "end_time": "2022-11-11T17:20:58.920654",
     "exception": false,
     "start_time": "2022-11-11T17:20:58.909178",
     "status": "completed"
    },
    "tags": []
   },
   "source": [
    "# MODEL CREATION\n",
    "#### Genuinely just relied on Google for the formatting and trial and error.\n",
    "Model was created based on RNN and utilized the Keras Layers to aid with long-form content by using LSTM to mitigate the initial proplems with RNN which is it's potentially to lean towards improper weight gradients when it comes to large data looping too much and messing with the weight values.\n",
    "With all that being said, even without pre-processing it still performed relatively well. The Original Training of the Model was done at batches of 64, to save time and Epochs of 25. The 64, which is larger than the usual 32, may have been faster but could have impacted accuracy as well. As such, in the second round with the preprocessed data, it was changed to 32 and 10. The model utilize Keras embedding and layers to create an RNN that checks for meaning withing the word and related words of the twitter. The LSTM allows for the RNN to avoid looping too much and messing with the ability to validate data properly. The Dense is amount to amount of emotions and utilize softmax for the predicted results."
   ]
  },
  {
   "cell_type": "code",
   "execution_count": 1,
   "id": "b2ad22f3",
   "metadata": {
    "execution": {
     "iopub.execute_input": "2022-11-11T17:20:58.946326Z",
     "iopub.status.busy": "2022-11-11T17:20:58.945470Z",
     "iopub.status.idle": "2022-11-11T17:21:00.115140Z",
     "shell.execute_reply": "2022-11-11T17:21:00.113617Z"
    },
    "papermill": {
     "duration": 1.185985,
     "end_time": "2022-11-11T17:21:00.118263",
     "exception": false,
     "start_time": "2022-11-11T17:20:58.932278",
     "status": "completed"
    },
    "tags": []
   },
   "outputs": [
    {
     "name": "stdout",
     "output_type": "stream",
     "text": [
      "Model: \"sequential\"\n",
      "_________________________________________________________________\n",
      " Layer (type)                Output Shape              Param #   \n",
      "=================================================================\n",
      " embedding (Embedding)       (None, 30, 32)            6400000   \n",
      "                                                                 \n",
      " bidirectional (Bidirectiona  (None, 30, 64)           12672     \n",
      " l)                                                              \n",
      "                                                                 \n",
      " bidirectional_1 (Bidirectio  (None, 30, 64)           18816     \n",
      " nal)                                                            \n",
      "                                                                 \n",
      " bidirectional_2 (Bidirectio  (None, 30, 64)           18816     \n",
      " nal)                                                            \n",
      "                                                                 \n",
      " bidirectional_3 (Bidirectio  (None, 64)               18816     \n",
      " nal)                                                            \n",
      "                                                                 \n",
      " dense (Dense)               (None, 8)                 520       \n",
      "                                                                 \n",
      "=================================================================\n",
      "Total params: 6,469,640\n",
      "Trainable params: 6,469,640\n",
      "Non-trainable params: 0\n",
      "_________________________________________________________________\n"
     ]
    }
   ],
   "source": [
    "import tensorflow as tf\n",
    "\n",
    "model2 = tf.keras.models.Sequential([\n",
    "    tf.keras.layers.Embedding(200000, 32, input_length=30),\n",
    "    tf.keras.layers.Bidirectional(tf.keras.layers.GRU(32, return_sequences=True)),\n",
    "    tf.keras.layers.Bidirectional(tf.keras.layers.GRU(32, return_sequences=True)),\n",
    "    tf.keras.layers.Bidirectional(tf.keras.layers.GRU(32, return_sequences=True)),\n",
    "    tf.keras.layers.Bidirectional(tf.keras.layers.GRU(32)),\n",
    "    tf.keras.layers.Dense(8, activation='softmax')\n",
    "])\n",
    "\n",
    "model2.compile(\n",
    "    loss='sparse_categorical_crossentropy',\n",
    "    optimizer='adam',\n",
    "    metrics=['accuracy']\n",
    ")\n",
    "\n",
    "model2.summary()"
   ]
  },
  {
   "cell_type": "markdown",
   "id": "15ae99ab",
   "metadata": {
    "papermill": {
     "duration": 0.011156,
     "end_time": "2022-11-11T17:21:00.141302",
     "exception": false,
     "start_time": "2022-11-11T17:21:00.130146",
     "status": "completed"
    },
    "tags": []
   },
   "source": [
    "# Model Training\n",
    "No validation data sure made things interesting.\n",
    "Original Training = 18/25 Epoch for Batches of 64.\n",
    "Current = 10 Epoch for Batches of 32.\n",
    "There was an issue whereby the predit function did not produce the desired results and I thought the model was wrong. However, it turned out I was using an outdated TensorFlow model function and I have learned the importance of reading a Module information and formatting. The working model produce a single value which is then converted from index_to_ids from the previously created function. The most optimal set of intructions and parameter are what we have now in this document. \n",
    "\n",
    "The various versions were tested on a 1 Epoch basis, and the current model, the No Pre-Processing Model consistently placed the best. In order of Performance, the other ones were Model With Stop Words and Demojize Include and the Last was the Pre-Processing Model that got rid of most things.\n",
    "\n",
    "That being said, while this first model was indeed the best, by working with the other models I was able narrow down the num_words, length, and epochs for more or less the best performance I could do.\n",
    "Current = 8 Epoch for Batches of 32.\n",
    "\n",
    "After further testing, Optimal Epoch = 3."
   ]
  },
  {
   "cell_type": "code",
   "execution_count": 25,
   "id": "4f7deb0d",
   "metadata": {},
   "outputs": [
    {
     "data": {
      "text/plain": [
       "(array([167, 155,  52,  21, 199,  37,   2,   0,   0,   0,   0,   0,   0,\n",
       "          0,   0,   0,   0,   0,   0,   0,   0,   0,   0,   0,   0,   0,\n",
       "          0,   0,   0,   0]),\n",
       " 5)"
      ]
     },
     "execution_count": 25,
     "metadata": {},
     "output_type": "execute_result"
    }
   ],
   "source": [
    "sequences_val = tokenizer.texts_to_sequences(X_test)\n",
    "val_pad = pad_sequences(sequences_val, truncating='post', maxlen=30, padding='post')\n",
    "val_emolabel = names_to_ids(y_test)\n",
    "val_pad[50], val_emolabel[50]"
   ]
  },
  {
   "cell_type": "code",
   "execution_count": null,
   "id": "fff208a2",
   "metadata": {},
   "outputs": [],
   "source": [
    "from keras.callbacks import EarlyStopping, ModelCheckpoint\n",
    "callbacks_list = [tf.keras.callbacks.EarlyStopping(monitor='val_accuracy', patience=1,), ModelCheckpoint(filepath='logs/',monitor='val_accuracy',save_best_only=True)]"
   ]
  },
  {
   "cell_type": "code",
   "execution_count": 26,
   "id": "f7ca61d1",
   "metadata": {
    "execution": {
     "iopub.execute_input": "2022-11-11T17:21:00.166248Z",
     "iopub.status.busy": "2022-11-11T17:21:00.165547Z",
     "iopub.status.idle": "2022-11-11T22:21:27.860220Z",
     "shell.execute_reply": "2022-11-11T22:21:27.858419Z"
    },
    "papermill": {
     "duration": 18027.710751,
     "end_time": "2022-11-11T22:21:27.863348",
     "exception": false,
     "start_time": "2022-11-11T17:21:00.152597",
     "status": "completed"
    },
    "scrolled": true,
    "tags": []
   },
   "outputs": [
    {
     "name": "stdout",
     "output_type": "stream",
     "text": [
      "Epoch 1/15\n",
      "36390/36390 [==============================] - 602s 16ms/step - loss: 1.2438 - accuracy: 0.5532 - val_loss: 1.1514 - val_accuracy: 0.5866\n",
      "Epoch 2/15\n",
      "36390/36390 [==============================] - 587s 16ms/step - loss: 1.0497 - accuracy: 0.6258 - val_loss: 1.1216 - val_accuracy: 0.5974\n",
      "Epoch 3/15\n",
      "36390/36390 [==============================] - 599s 16ms/step - loss: 0.9289 - accuracy: 0.6733 - val_loss: 1.1439 - val_accuracy: 0.5951\n",
      "Epoch 4/15\n",
      "36390/36390 [==============================] - 601s 17ms/step - loss: 0.8313 - accuracy: 0.7096 - val_loss: 1.1834 - val_accuracy: 0.5906\n",
      "training finish\n"
     ]
    }
   ],
   "source": [
    "# training!\n",
    "epochs = 100\n",
    "batch_size = 128\n",
    "\n",
    "history = model2.fit(tweets_train_pad, train_emolabels, \n",
    "                    epochs=epochs, \n",
    "                    batch_size=batch_size, \n",
    "                    callbacks = callbacks_list,\n",
    "                    validation_data = (val_pad, val_emolabel)\n",
    "                   )\n",
    "print('training finish')"
   ]
  },
  {
   "cell_type": "code",
   "execution_count": 27,
   "id": "88bcb903",
   "metadata": {
    "execution": {
     "iopub.execute_input": "2022-11-11T22:21:59.183262Z",
     "iopub.status.busy": "2022-11-11T22:21:59.182872Z",
     "iopub.status.idle": "2022-11-11T22:21:59.194502Z",
     "shell.execute_reply": "2022-11-11T22:21:59.192491Z"
    },
    "papermill": {
     "duration": 15.608424,
     "end_time": "2022-11-11T22:21:59.197858",
     "exception": false,
     "start_time": "2022-11-11T22:21:43.589434",
     "status": "completed"
    },
    "tags": []
   },
   "outputs": [
    {
     "data": {
      "text/plain": [
       "'When your husband forgots  to turn his alarm clock off and its a bank holiday. That. <LH>'"
      ]
     },
     "execution_count": 27,
     "metadata": {},
     "output_type": "execute_result"
    }
   ],
   "source": [
    "#Extracting and Testing Test Data\n",
    "tweets_test = twitTest_df['text']\n",
    "tweets_test[50]"
   ]
  },
  {
   "cell_type": "code",
   "execution_count": 28,
   "id": "fc78bb25",
   "metadata": {
    "execution": {
     "iopub.execute_input": "2022-11-11T22:22:30.794347Z",
     "iopub.status.busy": "2022-11-11T22:22:30.793966Z",
     "iopub.status.idle": "2022-11-11T22:22:45.681021Z",
     "shell.execute_reply": "2022-11-11T22:22:45.679841Z"
    },
    "papermill": {
     "duration": 30.496591,
     "end_time": "2022-11-11T22:22:45.683619",
     "exception": false,
     "start_time": "2022-11-11T22:22:15.187028",
     "status": "completed"
    },
    "scrolled": true,
    "tags": []
   },
   "outputs": [
    {
     "data": {
      "text/plain": [
       "array([  33,   15,  897,    1,    4,  564,   80, 2780, 3429,  145,    8,\n",
       "        210,    6, 1424,  845,   17,    2,    0,    0,    0,    0,    0,\n",
       "          0,    0,    0,    0,    0,    0,    0,    0])"
      ]
     },
     "execution_count": 28,
     "metadata": {},
     "output_type": "execute_result"
    }
   ],
   "source": [
    "#Padding for Test Data\n",
    "sequences_test = tokenizer.texts_to_sequences(tweets_test)\n",
    "tweets_test_pad = pad_sequences(sequences_test, truncating='post', maxlen=30, padding='post')\n",
    "tweets_test_pad[50]"
   ]
  },
  {
   "cell_type": "code",
   "execution_count": 29,
   "id": "c98ba6e6",
   "metadata": {},
   "outputs": [
    {
     "name": "stdout",
     "output_type": "stream",
     "text": [
      "12875/12875 [==============================] - 77s 6ms/step\n"
     ]
    }
   ],
   "source": [
    "#Predicting\n",
    "pred = np.argmax(model2.predict(tweets_test_pad), axis=-1)"
   ]
  },
  {
   "cell_type": "code",
   "execution_count": 30,
   "id": "c2b5a9c3",
   "metadata": {},
   "outputs": [
    {
     "data": {
      "text/plain": [
       "2"
      ]
     },
     "execution_count": 30,
     "metadata": {},
     "output_type": "execute_result"
    }
   ],
   "source": [
    "pred[50]"
   ]
  },
  {
   "cell_type": "code",
   "execution_count": 31,
   "id": "3de1e225",
   "metadata": {},
   "outputs": [
    {
     "data": {
      "text/plain": [
       "((411972,), (411972, 30))"
      ]
     },
     "execution_count": 31,
     "metadata": {},
     "output_type": "execute_result"
    }
   ],
   "source": [
    "pred.shape, tweets_test_pad.shape"
   ]
  },
  {
   "cell_type": "code",
   "execution_count": 32,
   "id": "a278710e",
   "metadata": {},
   "outputs": [
    {
     "data": {
      "text/plain": [
       "array(['anticipation', 'anticipation', 'joy', 'trust', 'trust'],\n",
       "      dtype='<U12')"
      ]
     },
     "execution_count": 32,
     "metadata": {},
     "output_type": "execute_result"
    }
   ],
   "source": [
    "pred_result = ids_to_names(pred)\n",
    "pred_result[:5]"
   ]
  },
  {
   "cell_type": "code",
   "execution_count": 33,
   "id": "3aa75d63",
   "metadata": {},
   "outputs": [
    {
     "name": "stdout",
     "output_type": "stream",
     "text": [
      "When your husband forgots  to turn his alarm clock off and its a bank holiday. That. <LH>\n",
      "joy\n"
     ]
    }
   ],
   "source": [
    "print(tweets_test[50])\n",
    "print(pred_result[50])"
   ]
  },
  {
   "cell_type": "code",
   "execution_count": 34,
   "id": "b071c828",
   "metadata": {
    "execution": {
     "iopub.execute_input": "2022-11-11T22:27:08.567117Z",
     "iopub.status.busy": "2022-11-11T22:27:08.566708Z",
     "iopub.status.idle": "2022-11-11T22:27:11.572490Z",
     "shell.execute_reply": "2022-11-11T22:27:11.571330Z"
    },
    "papermill": {
     "duration": 18.705677,
     "end_time": "2022-11-11T22:27:11.575190",
     "exception": false,
     "start_time": "2022-11-11T22:26:52.869513",
     "status": "completed"
    },
    "tags": []
   },
   "outputs": [],
   "source": [
    "my_submission = pd.DataFrame({'id': twitTest_df.tweet_id, 'emotion': pred_result})\n",
    "my_submission.to_csv('submissionMAINExperiment300K30lTT8020EEE.csv', index=False)"
   ]
  },
  {
   "cell_type": "markdown",
   "id": "ea61db09",
   "metadata": {
    "papermill": {
     "duration": 15.667071,
     "end_time": "2022-11-11T22:27:43.133120",
     "exception": false,
     "start_time": "2022-11-11T22:27:27.466049",
     "status": "completed"
    },
    "tags": []
   },
   "source": [
    "#### Fun Fact: The reason 50 was used was becuase for both, the Training and Test datasets, it was the hardest to get the correct answer."
   ]
  },
  {
   "cell_type": "code",
   "execution_count": null,
   "id": "7b9bae4c",
   "metadata": {},
   "outputs": [],
   "source": []
  }
 ],
 "metadata": {
  "kernelspec": {
   "display_name": "Python 3 (ipykernel)",
   "language": "python",
   "name": "python3"
  },
  "language_info": {
   "codemirror_mode": {
    "name": "ipython",
    "version": 3
   },
   "file_extension": ".py",
   "mimetype": "text/x-python",
   "name": "python",
   "nbconvert_exporter": "python",
   "pygments_lexer": "ipython3",
   "version": "3.9.13"
  },
  "papermill": {
   "default_parameters": {},
   "duration": 18591.313439,
   "end_time": "2022-11-11T22:28:02.328844",
   "environment_variables": {},
   "exception": null,
   "input_path": "__notebook__.ipynb",
   "output_path": "__notebook__.ipynb",
   "parameters": {},
   "start_time": "2022-11-11T17:18:11.015405",
   "version": "2.3.4"
  }
 },
 "nbformat": 4,
 "nbformat_minor": 5
}
